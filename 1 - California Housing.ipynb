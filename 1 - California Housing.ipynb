{
 "cells": [
  {
   "cell_type": "markdown",
   "metadata": {},
   "source": [
    "# California Housing "
   ]
  },
  {
   "cell_type": "markdown",
   "metadata": {},
   "source": [
    "The California housing data has features for latitude and longitude. We create a custom transformer that returns features for the distance away from a given set of coordinates. This custom transformer is used to create features for the distance away from Los Angeles and San Francisco and also includes the original features."
   ]
  },
  {
   "cell_type": "code",
   "execution_count": 117,
   "metadata": {},
   "outputs": [],
   "source": [
    "from sklearn.datasets import fetch_california_housing\n",
    "from sklearn.base import BaseEstimator, TransformerMixin\n",
    "from sklearn.pipeline import FeatureUnion, Pipeline\n",
    "import numpy as np\n",
    "from sklearn.linear_model import LinearRegression"
   ]
  },
  {
   "cell_type": "code",
   "execution_count": 118,
   "metadata": {},
   "outputs": [],
   "source": [
    "data=fetch_california_housing()\n",
    "lr=LinearRegression()"
   ]
  },
  {
   "cell_type": "code",
   "execution_count": 119,
   "metadata": {},
   "outputs": [],
   "source": [
    "\n",
    "\n",
    "X=data['data']\n",
    "y=data['target']\n",
    "#print(data['DESCR'])"
   ]
  },
  {
   "cell_type": "markdown",
   "metadata": {},
   "source": [
    "### Creating the Transformers\n",
    "#### Transformer 1"
   ]
  },
  {
   "cell_type": "code",
   "execution_count": 120,
   "metadata": {},
   "outputs": [],
   "source": [
    "class DistFromCity(BaseEstimator, TransformerMixin):\n",
    "    def __init__(self, coord):  \n",
    "        self.coord=coord   # Datatype: Tuple \n",
    "        \n",
    "    def fit(self, X,y=None):\n",
    "        \"\"\"\n",
    "        It is where we put anything we need to calculate for our transformation process. \n",
    "        Anything to be calculated for transformation process of our dataset.\n",
    "        \n",
    "        * Here we don't need anything to be calculated\n",
    "        \"\"\"\n",
    "        return self\n",
    "    \n",
    "    def transform(self, X):\n",
    "        \"\"\"\n",
    "        Here is where transformation occurs for our estimator.\n",
    "        \"\"\"\n",
    "        lat = X[:,0]\n",
    "        lon = X[:,1]\n",
    "        \n",
    "        dist = np.sqrt((lat - self.coord[0])**2 + (lon - self.coord[1])**2)\n",
    "        dist=dist.reshape(-1,1)\n",
    "        return dist"
   ]
  },
  {
   "cell_type": "markdown",
   "metadata": {},
   "source": [
    "#### Transformer 2"
   ]
  },
  {
   "cell_type": "code",
   "execution_count": 121,
   "metadata": {},
   "outputs": [],
   "source": [
    "class DropColumn(BaseEstimator, TransformerMixin):\n",
    "    def __init__(self, ind_cols):    # ind_cols -> the column indexes\n",
    "        self.ind_cols=ind_cols\n",
    "    def fit(self, X, y=None):\n",
    "        return self\n",
    "    def transform(self, X):\n",
    "        return x[:, self.ind_cols]"
   ]
  },
  {
   "cell_type": "code",
   "execution_count": 122,
   "metadata": {},
   "outputs": [],
   "source": [
    "coord_LA=(34, -118)\n",
    "coord_SF=(37,-122)\n",
    "dist_LA = DistFromCity(coord_LA)\n",
    "dist_SF = DistFromCity(coord_SF)\n",
    "drop=DropColumn([0,1,2,3,4,5])\n",
    "union = FeatureUnion([\n",
    "    (\"drop: \", drop),\n",
    "    (\"LA: \", dist_LA),\n",
    "    (\"SF: \", dist_SF)\n",
    "])"
   ]
  },
  {
   "cell_type": "code",
   "execution_count": 123,
   "metadata": {},
   "outputs": [],
   "source": [
    "pipe = Pipeline([('union',union), (\"regressor\",lr)])"
   ]
  },
  {
   "cell_type": "code",
   "execution_count": 124,
   "metadata": {},
   "outputs": [
    {
     "data": {
      "text/plain": [
       "Pipeline(steps=[('union',\n",
       "                 FeatureUnion(transformer_list=[('drop: ',\n",
       "                                                 DropColumn(ind_cols=[0, 1, 2,\n",
       "                                                                      3, 4,\n",
       "                                                                      5])),\n",
       "                                                ('LA: ',\n",
       "                                                 DistFromCity(coord=(34,\n",
       "                                                                     -118))),\n",
       "                                                ('SF: ',\n",
       "                                                 DistFromCity(coord=(37,\n",
       "                                                                     -122)))])),\n",
       "                ('regressor', LinearRegression())])"
      ]
     },
     "execution_count": 124,
     "metadata": {},
     "output_type": "execute_result"
    }
   ],
   "source": [
    "pipe.fit(X,y)"
   ]
  },
  {
   "cell_type": "code",
   "execution_count": 125,
   "metadata": {},
   "outputs": [
    {
     "data": {
      "text/plain": [
       "0.5492141613373629"
      ]
     },
     "execution_count": 125,
     "metadata": {},
     "output_type": "execute_result"
    }
   ],
   "source": [
    "pipe.score(X,y)"
   ]
  },
  {
   "cell_type": "code",
   "execution_count": 126,
   "metadata": {},
   "outputs": [
    {
     "data": {
      "text/plain": [
       "array([4.18553451, 3.99024082, 3.72968357, ..., 0.62812184, 0.77515971,\n",
       "       1.10086923])"
      ]
     },
     "execution_count": 126,
     "metadata": {},
     "output_type": "execute_result"
    }
   ],
   "source": [
    "pipe.predict(X)"
   ]
  },
  {
   "cell_type": "code",
   "execution_count": null,
   "metadata": {},
   "outputs": [],
   "source": []
  },
  {
   "cell_type": "code",
   "execution_count": null,
   "metadata": {},
   "outputs": [],
   "source": []
  }
 ],
 "metadata": {
  "kernelspec": {
   "display_name": "Python 3",
   "language": "python",
   "name": "python3"
  },
  "language_info": {
   "codemirror_mode": {
    "name": "ipython",
    "version": 3
   },
   "file_extension": ".py",
   "mimetype": "text/x-python",
   "name": "python",
   "nbconvert_exporter": "python",
   "pygments_lexer": "ipython3",
   "version": "3.7.9"
  }
 },
 "nbformat": 4,
 "nbformat_minor": 4
}
